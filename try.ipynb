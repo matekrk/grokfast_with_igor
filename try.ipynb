{
 "cells": [
  {
   "cell_type": "code",
   "id": "initial_id",
   "metadata": {
    "collapsed": true,
    "ExecuteTime": {
     "end_time": "2025-03-04T10:33:14.533118Z",
     "start_time": "2025-03-04T10:33:14.531451Z"
    }
   },
   "source": [
    "import numpy as np\n",
    "import pandas as pd\n",
    "import matplotlib.pyplot as plt\n",
    "import seaborn as sns\n",
    "from collections import defaultdict"
   ],
   "outputs": [],
   "execution_count": 1
  },
  {
   "metadata": {
    "ExecuteTime": {
     "end_time": "2025-03-04T10:33:40.825765Z",
     "start_time": "2025-03-04T10:33:40.822941Z"
    }
   },
   "cell_type": "code",
   "source": "a = np.array([1,2,3,4,5,6,7,8,9,10])",
   "id": "cd7bcad1c02bdf07",
   "outputs": [],
   "execution_count": 3
  },
  {
   "metadata": {
    "ExecuteTime": {
     "end_time": "2025-02-21T15:03:54.137807Z",
     "start_time": "2025-02-21T15:03:54.129633Z"
    }
   },
   "cell_type": "code",
   "source": "a",
   "id": "c773844e3a3155a9",
   "outputs": [
    {
     "data": {
      "text/plain": [
       "array([ 1,  2,  3,  4,  5,  6,  7,  8,  9, 10])"
      ]
     },
     "execution_count": 3,
     "metadata": {},
     "output_type": "execute_result"
    }
   ],
   "execution_count": 3
  },
  {
   "metadata": {
    "ExecuteTime": {
     "end_time": "2025-03-04T10:33:43.166764Z",
     "start_time": "2025-03-04T10:33:43.147712Z"
    }
   },
   "cell_type": "code",
   "source": "defaultdict(a)",
   "id": "b2f527b2e4e008f7",
   "outputs": [
    {
     "ename": "TypeError",
     "evalue": "first argument must be callable or None",
     "output_type": "error",
     "traceback": [
      "\u001B[0;31m---------------------------------------------------------------------------\u001B[0m",
      "\u001B[0;31mTypeError\u001B[0m                                 Traceback (most recent call last)",
      "Cell \u001B[0;32mIn[4], line 1\u001B[0m\n\u001B[0;32m----> 1\u001B[0m \u001B[43mdefaultdict\u001B[49m\u001B[43m(\u001B[49m\u001B[43ma\u001B[49m\u001B[43m)\u001B[49m\n",
      "\u001B[0;31mTypeError\u001B[0m: first argument must be callable or None"
     ]
    }
   ],
   "execution_count": 4
  },
  {
   "metadata": {
    "ExecuteTime": {
     "end_time": "2025-02-23T12:55:11.626659Z",
     "start_time": "2025-02-23T12:55:11.575835Z"
    }
   },
   "cell_type": "code",
   "source": [
    "import datetime.datetime\n",
    "\n"
   ],
   "id": "fa4da3a81e007141",
   "outputs": [
    {
     "ename": "ModuleNotFoundError",
     "evalue": "No module named 'datetime.datetime'; 'datetime' is not a package",
     "output_type": "error",
     "traceback": [
      "\u001B[0;31m---------------------------------------------------------------------------\u001B[0m",
      "\u001B[0;31mModuleNotFoundError\u001B[0m                       Traceback (most recent call last)",
      "Cell \u001B[0;32mIn[35], line 1\u001B[0m\n\u001B[0;32m----> 1\u001B[0m \u001B[38;5;28;01mimport\u001B[39;00m\u001B[38;5;250m \u001B[39m\u001B[38;5;21;01mdatetime\u001B[39;00m\u001B[38;5;21;01m.\u001B[39;00m\u001B[38;5;21;01mdatetime\u001B[39;00m\n",
      "\u001B[0;31mModuleNotFoundError\u001B[0m: No module named 'datetime.datetime'; 'datetime' is not a package"
     ]
    }
   ],
   "execution_count": 35
  },
  {
   "metadata": {
    "ExecuteTime": {
     "end_time": "2025-02-23T13:18:50.466091Z",
     "start_time": "2025-02-23T13:18:50.462934Z"
    }
   },
   "cell_type": "code",
   "source": "datetime.datetime.now()",
   "id": "e23f923d257571b2",
   "outputs": [
    {
     "data": {
      "text/plain": [
       "datetime.datetime(2025, 2, 23, 14, 18, 50, 463711)"
      ]
     },
     "execution_count": 58,
     "metadata": {},
     "output_type": "execute_result"
    }
   ],
   "execution_count": 58
  },
  {
   "metadata": {
    "ExecuteTime": {
     "end_time": "2025-02-24T14:47:54.925583Z",
     "start_time": "2025-02-24T14:47:54.914397Z"
    }
   },
   "cell_type": "code",
   "source": [
    "n = 5\n",
    "n // 2 + n % 2"
   ],
   "id": "ca0dbd1f79431de6",
   "outputs": [
    {
     "data": {
      "text/plain": [
       "3"
      ]
     },
     "execution_count": 66,
     "metadata": {},
     "output_type": "execute_result"
    }
   ],
   "execution_count": 66
  },
  {
   "metadata": {
    "ExecuteTime": {
     "end_time": "2025-02-24T14:48:21.728260Z",
     "start_time": "2025-02-24T14:48:21.713539Z"
    }
   },
   "cell_type": "code",
   "source": [
    "l = []\n",
    "len(l) == 0"
   ],
   "id": "8877fe54645b6f6e",
   "outputs": [
    {
     "data": {
      "text/plain": [
       "True"
      ]
     },
     "execution_count": 67,
     "metadata": {},
     "output_type": "execute_result"
    }
   ],
   "execution_count": 67
  },
  {
   "metadata": {
    "ExecuteTime": {
     "end_time": "2025-02-28T11:17:26.905660Z",
     "start_time": "2025-02-28T11:17:26.888406Z"
    }
   },
   "cell_type": "code",
   "source": "import re",
   "id": "3195bb64d664466f",
   "outputs": [],
   "execution_count": 68
  },
  {
   "metadata": {
    "ExecuteTime": {
     "end_time": "2025-02-28T11:17:53.898166Z",
     "start_time": "2025-02-28T11:17:53.888841Z"
    }
   },
   "cell_type": "code",
   "source": "name = 'layers.0.attn'",
   "id": "4d10c94855440bdd",
   "outputs": [],
   "execution_count": 69
  },
  {
   "metadata": {
    "ExecuteTime": {
     "end_time": "2025-02-28T11:27:36.467318Z",
     "start_time": "2025-02-28T11:27:36.463927Z"
    }
   },
   "cell_type": "code",
   "source": "match = re.search(r'layers\\.([0-9]+)\\.', name)",
   "id": "96a7bcaf8ef460d8",
   "outputs": [],
   "execution_count": 82
  },
  {
   "metadata": {
    "ExecuteTime": {
     "end_time": "2025-02-28T11:27:37.193405Z",
     "start_time": "2025-02-28T11:27:37.189621Z"
    }
   },
   "cell_type": "code",
   "source": "match.group(1)",
   "id": "33e54ab7d5bed5e2",
   "outputs": [
    {
     "data": {
      "text/plain": [
       "'0'"
      ]
     },
     "execution_count": 83,
     "metadata": {},
     "output_type": "execute_result"
    }
   ],
   "execution_count": 83
  },
  {
   "metadata": {
    "ExecuteTime": {
     "end_time": "2025-03-04T20:55:47.642701Z",
     "start_time": "2025-03-04T20:55:47.631876Z"
    }
   },
   "cell_type": "code",
   "source": "x = {'a': {'a': 3, 'b': 5}, 'b': {'a': 1, 'b': 4}}",
   "id": "95c40403e5ea61af",
   "outputs": [],
   "execution_count": 5
  },
  {
   "metadata": {
    "ExecuteTime": {
     "end_time": "2025-03-04T20:55:50.243512Z",
     "start_time": "2025-03-04T20:55:50.234241Z"
    }
   },
   "cell_type": "code",
   "source": "x",
   "id": "5b30ce4f503f6e05",
   "outputs": [
    {
     "data": {
      "text/plain": [
       "{'a': {'a': 3, 'b': 5}, 'b': {'a': 1, 'b': 4}}"
      ]
     },
     "execution_count": 6,
     "metadata": {},
     "output_type": "execute_result"
    }
   ],
   "execution_count": 6
  },
  {
   "metadata": {
    "ExecuteTime": {
     "end_time": "2025-03-04T20:56:08.392375Z",
     "start_time": "2025-03-04T20:56:08.371204Z"
    }
   },
   "cell_type": "code",
   "source": "pd.DataFrame(x)",
   "id": "6f806f9d1096c1fc",
   "outputs": [
    {
     "data": {
      "text/plain": [
       "   a  b\n",
       "a  3  1\n",
       "b  5  4"
      ],
      "text/html": [
       "<div>\n",
       "<style scoped>\n",
       "    .dataframe tbody tr th:only-of-type {\n",
       "        vertical-align: middle;\n",
       "    }\n",
       "\n",
       "    .dataframe tbody tr th {\n",
       "        vertical-align: top;\n",
       "    }\n",
       "\n",
       "    .dataframe thead th {\n",
       "        text-align: right;\n",
       "    }\n",
       "</style>\n",
       "<table border=\"1\" class=\"dataframe\">\n",
       "  <thead>\n",
       "    <tr style=\"text-align: right;\">\n",
       "      <th></th>\n",
       "      <th>a</th>\n",
       "      <th>b</th>\n",
       "    </tr>\n",
       "  </thead>\n",
       "  <tbody>\n",
       "    <tr>\n",
       "      <th>a</th>\n",
       "      <td>3</td>\n",
       "      <td>1</td>\n",
       "    </tr>\n",
       "    <tr>\n",
       "      <th>b</th>\n",
       "      <td>5</td>\n",
       "      <td>4</td>\n",
       "    </tr>\n",
       "  </tbody>\n",
       "</table>\n",
       "</div>"
      ]
     },
     "execution_count": 7,
     "metadata": {},
     "output_type": "execute_result"
    }
   ],
   "execution_count": 7
  },
  {
   "metadata": {
    "ExecuteTime": {
     "end_time": "2025-03-05T07:34:15.848297Z",
     "start_time": "2025-03-05T07:34:15.836895Z"
    }
   },
   "cell_type": "code",
   "source": "z = np.zeros((5, 3))",
   "id": "a31c942210213567",
   "outputs": [],
   "execution_count": 8
  },
  {
   "metadata": {
    "ExecuteTime": {
     "end_time": "2025-03-05T07:34:38.710617Z",
     "start_time": "2025-03-05T07:34:38.706980Z"
    }
   },
   "cell_type": "code",
   "source": "z[1] = (1, 2, 3)",
   "id": "66a3154d47769d8a",
   "outputs": [],
   "execution_count": 9
  },
  {
   "metadata": {
    "ExecuteTime": {
     "end_time": "2025-03-05T07:34:40.695807Z",
     "start_time": "2025-03-05T07:34:40.689106Z"
    }
   },
   "cell_type": "code",
   "source": "z",
   "id": "56e97d78aaab17e5",
   "outputs": [
    {
     "data": {
      "text/plain": [
       "array([[0., 0., 0.],\n",
       "       [1., 2., 3.],\n",
       "       [0., 0., 0.],\n",
       "       [0., 0., 0.],\n",
       "       [0., 0., 0.]])"
      ]
     },
     "execution_count": 10,
     "metadata": {},
     "output_type": "execute_result"
    }
   ],
   "execution_count": 10
  },
  {
   "metadata": {
    "ExecuteTime": {
     "end_time": "2025-03-05T11:04:40.410746Z",
     "start_time": "2025-03-05T11:04:38.938423Z"
    }
   },
   "cell_type": "code",
   "source": [
    "flights_long = sns.load_dataset(\"flights\")\n",
    "flights = (\n",
    "    flights_long\n",
    "    .pivot(index=\"month\", columns=\"year\", values=\"passengers\")\n",
    ")"
   ],
   "id": "2c85ef3329a30d22",
   "outputs": [],
   "execution_count": 11
  },
  {
   "metadata": {
    "ExecuteTime": {
     "end_time": "2025-03-05T11:05:07.354613Z",
     "start_time": "2025-03-05T11:05:07.340784Z"
    }
   },
   "cell_type": "code",
   "source": "flights.head",
   "id": "4919f45ed18c4e2d",
   "outputs": [
    {
     "data": {
      "text/plain": [
       "<bound method NDFrame.head of year   1949  1950  1951  1952  1953  1954  1955  1956  1957  1958  1959  1960\n",
       "month                                                                        \n",
       "Jan     112   115   145   171   196   204   242   284   315   340   360   417\n",
       "Feb     118   126   150   180   196   188   233   277   301   318   342   391\n",
       "Mar     132   141   178   193   236   235   267   317   356   362   406   419\n",
       "Apr     129   135   163   181   235   227   269   313   348   348   396   461\n",
       "May     121   125   172   183   229   234   270   318   355   363   420   472\n",
       "Jun     135   149   178   218   243   264   315   374   422   435   472   535\n",
       "Jul     148   170   199   230   264   302   364   413   465   491   548   622\n",
       "Aug     148   170   199   242   272   293   347   405   467   505   559   606\n",
       "Sep     136   158   184   209   237   259   312   355   404   404   463   508\n",
       "Oct     119   133   162   191   211   229   274   306   347   359   407   461\n",
       "Nov     104   114   146   172   180   203   237   271   305   310   362   390\n",
       "Dec     118   140   166   194   201   229   278   306   336   337   405   432>"
      ]
     },
     "execution_count": 12,
     "metadata": {},
     "output_type": "execute_result"
    }
   ],
   "execution_count": 12
  },
  {
   "metadata": {},
   "cell_type": "code",
   "outputs": [],
   "execution_count": null,
   "source": [
    "\n",
    "# Draw a heatmap with the numeric values in each cell\n",
    "f, ax = plt.subplots(figsize=(9, 6))\n",
    "sns.heatmap(flights, annot=True, fmt=\"d\", linewidths=.5, ax=ax)"
   ],
   "id": "7744ca7e02544abb"
  }
 ],
 "metadata": {
  "kernelspec": {
   "display_name": "Python 3",
   "language": "python",
   "name": "python3"
  },
  "language_info": {
   "codemirror_mode": {
    "name": "ipython",
    "version": 2
   },
   "file_extension": ".py",
   "mimetype": "text/x-python",
   "name": "python",
   "nbconvert_exporter": "python",
   "pygments_lexer": "ipython2",
   "version": "2.7.6"
  }
 },
 "nbformat": 4,
 "nbformat_minor": 5
}
